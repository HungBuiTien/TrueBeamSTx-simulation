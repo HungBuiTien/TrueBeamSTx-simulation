{
 "cells": [
  {
   "cell_type": "code",
   "execution_count": null,
   "metadata": {},
   "outputs": [],
   "source": [
    "import numpy as np\n",
    "import matplotlib.pyplot as plt"
   ]
  },
  {
   "cell_type": "code",
   "execution_count": null,
   "metadata": {},
   "outputs": [],
   "source": [
    "# Load data from txt files\n",
    "# d = depth; p = profile\n",
    "d_edep = np.loadtxt(r'output/Seg2_Sim/gamma-depth-Edep.txt')\n",
    "d_uncert = np.loadtxt(r'output/Seg2_Sim/gamma-depth-Edep-Uncertainty.txt')\n",
    "p_edep = np.loadtxt(r'output/Seg2_Sim/gamma-profile-Edep.txt')\n",
    "p_uncert = np.loadtxt(r'output/Seg2_Sim/gamma-profile-Edep-Uncertainty.txt')"
   ]
  },
  {
   "cell_type": "code",
   "execution_count": null,
   "metadata": {},
   "outputs": [],
   "source": [
    "# Declare a single figure (one row, one column)\n",
    "fig, ax = plt.subplots(ncols=1, nrows=1, figsize=(12, 6))\n",
    "\n",
    "# X values from 0 to n, n is the length of d_edep\n",
    "n = len(d_edep)\n",
    "x = np.linspace(0, n, n)\n",
    "\n",
    "# First curve, gamma depth in green\n",
    "y = d_edep\n",
    "c1 = ax.plot(x, y, 'g-', label='edep', linewidth=2)\n",
    "\n",
    "# Second curve, gamma uncertainty in blue, share the same x axis, but use a\n",
    "# different y axis\n",
    "y = d_uncert\n",
    "ax2 = ax.twinx()\n",
    "c2 = ax2.plot(x, y, 'b-', label='$\\sigma$ (uncertainty)')\n",
    "\n",
    "# Add the legend and the title\n",
    "lns = c1+c2\n",
    "labs = [l.get_label() for l in lns]\n",
    "ax.legend(lns, labs, loc=0)\n",
    "ax.set_title('Depth deposited energy')\n",
    "ax.set_xlabel('Distance in mm')\n",
    "ax.set_ylabel('Deposited energy in MeV')\n",
    "f = ax2.set_ylabel('Uncertainty')\n",
    "\n",
    "# save on disk (optional)\n",
    "plt.savefig('depth_dose.png',dpi=300,bbox_inches=\"tight\",pad_inches=None)"
   ]
  },
  {
   "cell_type": "code",
   "execution_count": null,
   "metadata": {},
   "outputs": [],
   "source": [
    "# Declare a figure \n",
    "fig, ax = plt.subplots(ncols=1, nrows=1, figsize=(12, 6))\n",
    "\n",
    "# Third curve, gamma profile in green\n",
    "n = len(p_edep)\n",
    "x = np.linspace(0, n, n)\n",
    "y = p_edep\n",
    "c3 = ax.plot(x, y, 'g-', label='edep', linewidth=2)\n",
    "\n",
    "# Last curve, gamma uncertainty profile\n",
    "y = p_uncert\n",
    "ax2 = ax.twinx()\n",
    "c4 = ax2.plot(x, y, 'b-', label='$\\sigma$ (uncertainty)')\n",
    "\n",
    "# Add the legend and the title\n",
    "lns = c3+c4\n",
    "labs = [l.get_label() for l in lns]\n",
    "ax.legend(lns, labs, loc=0)\n",
    "ax.set_title('Deposited energy profile')\n",
    "ax.set_xlabel('Distance in mm')\n",
    "ax.set_ylabel('Deposited energy in MeV')\n",
    "f = ax2.set_ylabel('Uncertainty')"
   ]
  }
 ],
 "metadata": {
  "kernelspec": {
   "display_name": "Python 3 (ipykernel)",
   "language": "python",
   "name": "python3"
  },
  "language_info": {
   "codemirror_mode": {
    "name": "ipython",
    "version": 3
   },
   "file_extension": ".py",
   "mimetype": "text/x-python",
   "name": "python",
   "nbconvert_exporter": "python",
   "pygments_lexer": "ipython3",
   "version": "3.7.6"
  }
 },
 "nbformat": 4,
 "nbformat_minor": 4
}
