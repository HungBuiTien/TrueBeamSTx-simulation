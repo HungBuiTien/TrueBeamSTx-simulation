{
 "cells": [
  {
   "cell_type": "code",
   "execution_count": 7,
   "metadata": {},
   "outputs": [],
   "source": [
    "import numpy as np\n",
    "import matplotlib.pyplot as plt\n",
    "import uproot\n",
    "%matplotlib qt"
   ]
  },
  {
   "cell_type": "code",
   "execution_count": 8,
   "metadata": {},
   "outputs": [],
   "source": [
    "# Read a PhSp\n",
    "root_filename = r\"output/Seg1_Sim/myIAEA.root\"\n",
    "f = uproot.open(root_filename)\n",
    "\n",
    "# Look for a single key named \"PhaseSpace\"\n",
    "k = f.keys()\n",
    "psf = f['PhaseSpace']\n",
    "#print('Read PHSP object', psf)\n",
    "#print(\"PhaseSpace keys: \", psf.keys())"
   ]
  },
  {
   "cell_type": "code",
   "execution_count": 9,
   "metadata": {},
   "outputs": [
    {
     "data": {
      "text/plain": [
       "<matplotlib.legend.Legend at 0x7fc959a2c590>"
      ]
     },
     "execution_count": 9,
     "metadata": {},
     "output_type": "execute_result"
    }
   ],
   "source": [
    "# Plot the E\n",
    "nbs = 600\n",
    "x = psf['Ekine']\n",
    "fig1, ax1 = plt.subplots()\n",
    "n, bins, patches = ax1.hist(x, nbs, density=False, alpha=0.75, label='Energy spectrum')\n",
    "ax1.set_xlabel(\"Energy [Mev]\")\n",
    "ax1.set_ylabel(\"Number [Counts]\")\n",
    "ax1.legend()"
   ]
  },
  {
   "cell_type": "code",
   "execution_count": 10,
   "metadata": {},
   "outputs": [
    {
     "name": "stdout",
     "output_type": "stream",
     "text": [
      "Number of elements:  27701\n"
     ]
    }
   ],
   "source": [
    "# Plot the X,Y \n",
    "x = np.array(psf['X'])\n",
    "z = np.array(psf['Z'])\n",
    "e = np.array(psf['Ekine'])\n",
    "print('Number of elements: ', e.shape[0])\n",
    "fig2, ax2 = plt.subplots()\n",
    "ax2.scatter(x, z, linewidths=1, alpha=.7, edgecolor='k', s=0.01, label='Field_Size - XZ')\n",
    "ax2.set_xlabel(\"X position [mm]\")\n",
    "ax2.set_ylabel(\"Z position [mm]\")\n",
    "ax2.legend()\n",
    "plt.grid(True)\n",
    "#plt.savefig(\"output/Field_Size.png\", dpi=1000)"
   ]
  },
  {
   "cell_type": "code",
   "execution_count": 11,
   "metadata": {},
   "outputs": [
    {
     "data": {
      "text/plain": [
       "<matplotlib.legend.Legend at 0x7fc9593f2b90>"
      ]
     },
     "execution_count": 11,
     "metadata": {},
     "output_type": "execute_result"
    }
   ],
   "source": [
    "# Plot the theta angle (main direction dY\n",
    "nbs = 1000\n",
    "x = np.rad2deg(np.arccos(np.array(psf['dY'])))\n",
    "fig3, ax3 = plt.subplots()\n",
    "n, bins, patches = ax3.hist(x, nbs, density=True, alpha=0.75, label='theta')\n",
    "ax3.set_xlim(160,180)\n",
    "ax3.legend()"
   ]
  },
  {
   "cell_type": "code",
   "execution_count": 12,
   "metadata": {},
   "outputs": [
    {
     "data": {
      "text/plain": [
       "<matplotlib.legend.Legend at 0x7fc958894b90>"
      ]
     },
     "execution_count": 12,
     "metadata": {},
     "output_type": "execute_result"
    }
   ],
   "source": [
    "# Plot the phi angle\n",
    "nbs = 200\n",
    "x = np.rad2deg(np.arctan2(np.array(psf['dZ']), np.array(psf['dX'])))\n",
    "fig4, ax4 = plt.subplots()\n",
    "n, bins, patches = ax4.hist(x, nbs, density=True, alpha=0.75, label='phi')\n",
    "ax4.legend()"
   ]
  }
 ],
 "metadata": {
  "kernelspec": {
   "display_name": "Python 3 (ipykernel)",
   "language": "python",
   "name": "python3"
  },
  "language_info": {
   "codemirror_mode": {
    "name": "ipython",
    "version": 3
   },
   "file_extension": ".py",
   "mimetype": "text/x-python",
   "name": "python",
   "nbconvert_exporter": "python",
   "pygments_lexer": "ipython3",
   "version": "3.7.6"
  },
  "vscode": {
   "interpreter": {
    "hash": "916dbcbb3f70747c44a77c7bcd40155683ae19c65e1c03b4aa3499c5328201f1"
   }
  }
 },
 "nbformat": 4,
 "nbformat_minor": 4
}
