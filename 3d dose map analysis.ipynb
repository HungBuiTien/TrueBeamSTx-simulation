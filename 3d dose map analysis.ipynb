{
 "cells": [
  {
   "cell_type": "markdown",
   "metadata": {
    "cell_id": "00000-eb52ae5e-a1f6-4ad2-99c6-d6eec6b07cfe"
   },
   "source": [
    "# 2D dose map analysis"
   ]
  },
  {
   "cell_type": "code",
   "execution_count": 1,
   "metadata": {
    "cell_id": "00001-6d57c54d-e209-4062-a0b1-7e0992fe9b6f",
    "execution_millis": 1,
    "execution_start": 1605009963671,
    "output_cleared": false,
    "source_hash": "4786f891"
   },
   "outputs": [],
   "source": [
    "import matplotlib.pyplot as plt\n",
    "import numpy as np\n",
    "import SimpleITK as sitk\n",
    "from ipywidgets import interact\n",
    "import os\n",
    "from pathlib import Path"
   ]
  },
  {
   "cell_type": "markdown",
   "metadata": {},
   "source": [
    "In order to be able to run the interactive plot, you must install ipympl as indicated here: https://github.com/matplotlib/ipympl\n",
    "This is activated by the previous `%matplotlib widget` line."
   ]
  },
  {
   "cell_type": "code",
   "execution_count": 3,
   "metadata": {
    "cell_id": "00003-218500bc-1c37-4681-8413-9feff467bf2b",
    "execution_millis": 0,
    "execution_start": 1605010082790,
    "output_cleared": false,
    "source_hash": "77b2d837"
   },
   "outputs": [
    {
     "name": "stdout",
     "output_type": "stream",
     "text": [
      "Image size:  (100, 1, 100)\n",
      "Image spacing:  (0.5, 0.27799999713897705, 0.5)\n",
      "Image origin:  (-24.75, 50.0, -24.75)\n"
     ]
    }
   ],
   "source": [
    "# Read a sitk image\n",
    "filename = r\"./output/Seg2_Sim/EBT3_results/doseDistribution-Edep.mhd\"\n",
    "img_ct = sitk.ReadImage(filename)\n",
    "print('Image size: ', img_ct.GetSize())\n",
    "print('Image spacing: ', img_ct.GetSpacing())\n",
    "print('Image origin: ', img_ct.GetOrigin())"
   ]
  },
  {
   "cell_type": "code",
   "execution_count": 4,
   "metadata": {
    "cell_id": "00004-2d061556-d95d-42a1-8970-04f5211dc420",
    "execution_millis": 4,
    "execution_start": 1605010084508,
    "output_cleared": false,
    "source_hash": "672e2d66"
   },
   "outputs": [
    {
     "name": "stdout",
     "output_type": "stream",
     "text": [
      "Array size:  (100, 1, 100)  <--- be careful to the dimension order!)\n"
     ]
    }
   ],
   "source": [
    "# Convert sitk image to a numpy array\n",
    "arr_ct = sitk.GetArrayFromImage(img_ct)\n",
    "print('Array size: ', arr_ct.shape, ' <--- be careful to the dimension order!)')"
   ]
  },
  {
   "cell_type": "code",
   "execution_count": 5,
   "metadata": {
    "cell_id": "00005-d092e942-514e-4700-95ea-1be0f120dfed",
    "execution_millis": 302,
    "execution_start": 1605010085960,
    "output_cleared": false,
    "source_hash": "1a513e72"
   },
   "outputs": [
    {
     "data": {
      "text/plain": [
       "<matplotlib.colorbar.Colorbar at 0x152a0b667c10>"
      ]
     },
     "execution_count": 5,
     "metadata": {},
     "output_type": "execute_result"
    },
    {
     "data": {
      "image/png": "[encoded data removed]",
      "text/plain": [
       "<Figure size 432x288 with 2 Axes>"
      ]
     },
     "metadata": {
      "needs_background": "light"
     },
     "output_type": "display_data"
    }
   ],
   "source": [
    "plt.imshow(arr_ct[:,0,:], extent=(-2.5,2.5,-2.5,2.5))\n",
    "plt.xlabel(\"x position [cm]\")\n",
    "plt.ylabel(\"z position [cm]\")\n",
    "plt.title(\"EBT3 Film response\")\n",
    "plt.colorbar()"
   ]
  },
  {
   "cell_type": "code",
   "execution_count": null,
   "metadata": {
    "cell_id": "00015-f9dd3c8c-a10c-4b90-b6a8-f18f6c5f0ede",
    "execution_millis": 180,
    "execution_start": 1605010005853,
    "output_cleared": false,
    "source_hash": "9b152455"
   },
   "outputs": [],
   "source": [
    "x = arr_ct[:,0,49]\n",
    "# = 100*x/x.max()\n",
    "n = np.linspace(-2.5,2.5,100)\n",
    "plt.plot(n,x)"
   ]
  }
 ],
 "metadata": {
  "deepnote_execution_queue": [],
  "deepnote_notebook_id": "941a92cc-9788-45bd-8e60-5aeb69a51003",
  "kernelspec": {
   "display_name": "Python 3 (ipykernel)",
   "language": "python",
   "name": "python3"
  },
  "language_info": {
   "codemirror_mode": {
    "name": "ipython",
    "version": 3
   },
   "file_extension": ".py",
   "mimetype": "text/x-python",
   "name": "python",
   "nbconvert_exporter": "python",
   "pygments_lexer": "ipython3",
   "version": "3.7.6"
  }
 },
 "nbformat": 4,
 "nbformat_minor": 4
}
