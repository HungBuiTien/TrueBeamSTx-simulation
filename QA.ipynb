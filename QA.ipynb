{
 "cells": [
  {
   "cell_type": "code",
   "execution_count": 1,
   "metadata": {},
   "outputs": [],
   "source": [
    "import numpy as np\n",
    "import matplotlib.pyplot as plt\n",
    "%matplotlib qt"
   ]
  },
  {
   "cell_type": "code",
   "execution_count": 2,
   "metadata": {},
   "outputs": [],
   "source": [
    "def load_edep(path):\n",
    "    return np.loadtxt(path)"
   ]
  },
  {
   "cell_type": "code",
   "execution_count": 3,
   "metadata": {},
   "outputs": [],
   "source": [
    "# set number of files\n",
    "nfiles = 50\n",
    "\n",
    "# Depth dose profile plot\n",
    "edep = []\n",
    "for i in range(1, nfiles+1):\n",
    "    edep_tmp = load_edep(r\"output/Seg2_Sim/QA_results/gamma-depth{}-Edep.txt\".format(i))\n",
    "    edep.append(edep_tmp)\n",
    "   \n",
    "edep_sum = [0]*100\n",
    "for i in range(len(edep)):\n",
    "    edep_sum = edep_sum + edep[i]\n",
    "\n",
    "# Read experiment data\n",
    "depth_dose_ex_file = open(r\"DepthExp.txt\",'r')\n",
    "depth_dose_ex_lines = depth_dose_ex_file.readlines()\n",
    "depth_dose_ex_data = []\n",
    "\n",
    "for line in depth_dose_ex_lines:\n",
    "    depth_dose_ex_data.append(float(line))\n",
    "depth_dose_ex_data = np.array(depth_dose_ex_data)\n",
    "  \n",
    "n = len(edep_sum)\n",
    "x = np.linspace(0, 30, n)\n",
    "y = edep_sum\n",
    "y = np.flip(y)\n",
    "y = 100*y/y.max()\n",
    "\n",
    "n2 = len(depth_dose_ex_data)\n",
    "x2 = np.linspace(0, 30, n2)\n",
    "y2 = depth_dose_ex_data\n",
    "\n",
    "plt.plot(x2, y2, label=\"Golden beam data\", color='red', linewidth=3)\n",
    "plt.scatter(x, y, label=\"GATE simulation\", zorder=2, facecolor='C0', edgecolor='k')\n",
    "\n",
    "plt.plot()\n",
    "plt.grid(True)\n",
    "plt.title(\"Depth dose profile\")\n",
    "plt.xlabel(\"Depth in water phantom [cm]\")\n",
    "plt.ylabel(\"Relative dose [%]\")\n",
    "plt.legend(loc=\"upper right\")\n",
    "plt.savefig(\"DepthDose.png\", dpi=300)"
   ]
  },
  {
   "cell_type": "code",
   "execution_count": 142,
   "metadata": {},
   "outputs": [],
   "source": [
    "# Dose profile plot\n",
    "edep = []\n",
    "for i in range(1, nfiles+1):\n",
    "    edep_tmp = load_edep(r\"output/Seg2_Sim/QA_results/gamma-profile{}-Edep.txt\".format(i))\n",
    "    edep.append(edep_tmp)\n",
    "   \n",
    "edep_sum = [0]*100\n",
    "for i in range(len(edep)):\n",
    "    edep_sum = edep_sum + edep[i]\n",
    "\n",
    "# read FFF experiment data\n",
    "exFile = open(\"6FFF_Depth10_Size10.txt\", 'r')\n",
    "exdat = exFile.readlines()\n",
    "exData = []\n",
    "\n",
    "for line in exdat:\n",
    "    tmp = line.split()\n",
    "    exData.append(float(tmp[0]))    \n",
    "    \n",
    "n = len(edep_sum)\n",
    "x = np.linspace(-15, 15, n)\n",
    "y = edep_sum\n",
    "y = np.flip(y)\n",
    "y = 100*y/y.max()\n",
    "plt.scatter(x, y, label=\"GATE simulation\", zorder=2, facecolor='C0', edgecolor='k')\n",
    "\n",
    "n2 = len(exData)\n",
    "x2 = np.linspace(-10.4, 10.4, n2)\n",
    "y2 = exData\n",
    "plt.plot(x2, y2, label=\"Golden beam data\", color='red', linewidth=3)\n",
    "\n",
    "plt.grid(True)\n",
    "plt.title(\"Dose profile\")\n",
    "plt.xlabel(\"Distance from axis [cm]\")\n",
    "plt.ylabel(\"Relative dose [%]\")\n",
    "plt.legend(loc=\"upper right\")\n",
    "plt.savefig(\"DoseProfile.png\", dpi=300)"
   ]
  }
 ],
 "metadata": {
  "kernelspec": {
   "display_name": "Python 3 (ipykernel)",
   "language": "python",
   "name": "python3"
  },
  "language_info": {
   "codemirror_mode": {
    "name": "ipython",
    "version": 3
   },
   "file_extension": ".py",
   "mimetype": "text/x-python",
   "name": "python",
   "nbconvert_exporter": "python",
   "pygments_lexer": "ipython3",
   "version": "3.7.6"
  }
 },
 "nbformat": 4,
 "nbformat_minor": 4
}
